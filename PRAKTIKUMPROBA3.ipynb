{
 "cells": [
  {
   "cell_type": "code",
   "execution_count": 10,
   "id": "12ba36b3-f138-44c8-96d0-73743e2a587c",
   "metadata": {},
   "outputs": [
    {
     "name": "stdout",
     "output_type": "stream",
     "text": [
      "      Price  SqFt  Bedrooms  Bathrooms  Offers Brick Neighborhood\n",
      "0    114300  1790         2          2       2    No         East\n",
      "1    114200  2030         4          2       3    No         East\n",
      "2    114800  1740         3          2       1    No         East\n",
      "3     94700  1980         3          2       3    No         East\n",
      "4    119800  2130         3          3       3    No         East\n",
      "..      ...   ...       ...        ...     ...   ...          ...\n",
      "123  119700  1900         3          3       3   Yes         East\n",
      "124  147900  2160         4          3       3   Yes         East\n",
      "125  113500  2070         2          2       2    No        North\n",
      "126  149900  2020         3          3       1    No         West\n",
      "127  124600  2250         3          3       4    No        North\n",
      "\n",
      "[128 rows x 7 columns]\n"
     ]
    }
   ],
   "source": [
    "import pandas as pd\n",
    "\n",
    "data_rafael = pd.read_clipboard()\n",
    "\n",
    "print(data_rafael)"
   ]
  },
  {
   "cell_type": "code",
   "execution_count": 11,
   "id": "50bec929-dd9a-4344-b1d8-bd99c6dd1c01",
   "metadata": {},
   "outputs": [
    {
     "name": "stdout",
     "output_type": "stream",
     "text": [
      "      Price  SqFt  Bedrooms  Bathrooms  Offers Brick Neighborhood\n",
      "0    114300  1790         2          2       2    No         East\n",
      "11   123000  1870         2          2       2   Yes         East\n",
      "18   111400  1700         2          2       1   Yes         East\n",
      "28    69100  1600         2          2       3    No        North\n",
      "31   112300  1930         2          2       2   Yes        North\n",
      "34   117800  2000         2          2       3    No        North\n",
      "36   117500  1880         2          2       2    No        North\n",
      "40   106600  1560         2          2       1    No         East\n",
      "42   105600  1990         2          2       3    No         East\n",
      "46   129800  1990         2          3       2    No        North\n",
      "48   115900  1980         2          2       2    No         East\n",
      "51    91100  1860         2          2       3    No        North\n",
      "52   117400  2150         2          3       4    No        North\n",
      "55   125700  1720         2          2       2   Yes         East\n",
      "61   100900  1610         2          2       2    No        North\n",
      "63   120500  1910         2          3       2    No         East\n",
      "65   111100  1450         2          2       1   Yes        North\n",
      "75   106900  1900         2          2       2    No        North\n",
      "82   164800  2050         2          2       1   Yes         West\n",
      "84    90500  1520         2          2       3    No        North\n",
      "89    97800  2010         2          2       4    No        North\n",
      "95   152500  1970         2          2       1   Yes         West\n",
      "97   126800  2000         2          2       1   Yes         East\n",
      "110  111600  1710         2          2       1    No        North\n",
      "111  114900  1740         2          2       2    No        North\n",
      "112  123600  1940         2          2       2   Yes         East\n",
      "119  109700  1920         2          2       4    No        North\n",
      "120  110400  1930         2          3       3    No        North\n",
      "122  144800  2060         2          2       1   Yes         East\n",
      "125  113500  2070         2          2       2    No        North\n"
     ]
    }
   ],
   "source": [
    "rafael = data_rafael[data_rafael['Bedrooms'] == 2]\n",
    "\n",
    "print (rafael)"
   ]
  },
  {
   "cell_type": "code",
   "execution_count": 13,
   "id": "4342ffff-ab8c-46bd-96fc-702e8ecb70f6",
   "metadata": {},
   "outputs": [
    {
     "name": "stdout",
     "output_type": "stream",
     "text": [
      "      Price  SqFt  Bedrooms Bathrooms  Offers Brick Neighborhood\n",
      "0    114300  1790         2     small       2    No         East\n",
      "11   123000  1870         2     small       2   Yes         East\n",
      "18   111400  1700         2     small       1   Yes         East\n",
      "28    69100  1600         2     small       3    No        North\n",
      "31   112300  1930         2     small       2   Yes        North\n",
      "34   117800  2000         2     small       3    No        North\n",
      "36   117500  1880         2     small       2    No        North\n",
      "40   106600  1560         2     small       1    No         East\n",
      "42   105600  1990         2     small       3    No         East\n",
      "46   129800  1990         2     large       2    No        North\n",
      "48   115900  1980         2     small       2    No         East\n",
      "51    91100  1860         2     small       3    No        North\n",
      "52   117400  2150         2     large       4    No        North\n",
      "55   125700  1720         2     small       2   Yes         East\n",
      "61   100900  1610         2     small       2    No        North\n",
      "63   120500  1910         2     large       2    No         East\n",
      "65   111100  1450         2     small       1   Yes        North\n",
      "75   106900  1900         2     small       2    No        North\n",
      "82   164800  2050         2     small       1   Yes         West\n",
      "84    90500  1520         2     small       3    No        North\n",
      "89    97800  2010         2     small       4    No        North\n",
      "95   152500  1970         2     small       1   Yes         West\n",
      "97   126800  2000         2     small       1   Yes         East\n",
      "110  111600  1710         2     small       1    No        North\n",
      "111  114900  1740         2     small       2    No        North\n",
      "112  123600  1940         2     small       2   Yes         East\n",
      "119  109700  1920         2     small       4    No        North\n",
      "120  110400  1930         2     large       3    No        North\n",
      "122  144800  2060         2     small       1   Yes         East\n",
      "125  113500  2070         2     small       2    No        North\n"
     ]
    },
    {
     "name": "stderr",
     "output_type": "stream",
     "text": [
      "C:\\Users\\LENOVO\\AppData\\Local\\Temp\\ipykernel_7672\\2159378783.py:1: SettingWithCopyWarning: \n",
      "A value is trying to be set on a copy of a slice from a DataFrame.\n",
      "Try using .loc[row_indexer,col_indexer] = value instead\n",
      "\n",
      "See the caveats in the documentation: https://pandas.pydata.org/pandas-docs/stable/user_guide/indexing.html#returning-a-view-versus-a-copy\n",
      "  rafael['Bathrooms'] = pd.to_numeric(rafael['Bathrooms'])\n",
      "C:\\Users\\LENOVO\\AppData\\Local\\Temp\\ipykernel_7672\\2159378783.py:5: SettingWithCopyWarning: \n",
      "A value is trying to be set on a copy of a slice from a DataFrame.\n",
      "Try using .loc[row_indexer,col_indexer] = value instead\n",
      "\n",
      "See the caveats in the documentation: https://pandas.pydata.org/pandas-docs/stable/user_guide/indexing.html#returning-a-view-versus-a-copy\n",
      "  rafael['Bathrooms'] = rafael['Bathrooms'].apply(lambda x: 'large' if x > 2 else 'small')\n"
     ]
    }
   ],
   "source": [
    "rafael['Bathrooms'] = pd.to_numeric(rafael['Bathrooms'])\n",
    "\n",
    "import numpy as np\n",
    "\n",
    "rafael['Bathrooms'] = rafael['Bathrooms'].apply(lambda x: 'large' if x > 2 else 'small')\n",
    "\n",
    "print(rafael)"
   ]
  },
  {
   "cell_type": "code",
   "execution_count": 14,
   "id": "3613e60d-015f-44a7-a2ab-c84ab3f5526e",
   "metadata": {},
   "outputs": [
    {
     "name": "stdout",
     "output_type": "stream",
     "text": [
      "      Price  SqFt  Bedrooms Bathrooms  Offers Brick Neighborhood newvariable\n",
      "0    114300  1790         2     small       2    No         East       small\n",
      "11   123000  1870         2     small       2   Yes         East       small\n",
      "18   111400  1700         2     small       1   Yes         East       small\n",
      "28    69100  1600         2     small       3    No        North       large\n",
      "31   112300  1930         2     small       2   Yes        North       small\n",
      "34   117800  2000         2     small       3    No        North       large\n",
      "36   117500  1880         2     small       2    No        North       small\n",
      "40   106600  1560         2     small       1    No         East       small\n",
      "42   105600  1990         2     small       3    No         East       large\n",
      "46   129800  1990         2     large       2    No        North       small\n",
      "48   115900  1980         2     small       2    No         East       small\n",
      "51    91100  1860         2     small       3    No        North       large\n",
      "52   117400  2150         2     large       4    No        North       large\n",
      "55   125700  1720         2     small       2   Yes         East       small\n",
      "61   100900  1610         2     small       2    No        North       small\n",
      "63   120500  1910         2     large       2    No         East       small\n",
      "65   111100  1450         2     small       1   Yes        North       small\n",
      "75   106900  1900         2     small       2    No        North       small\n",
      "82   164800  2050         2     small       1   Yes         West       small\n",
      "84    90500  1520         2     small       3    No        North       large\n",
      "89    97800  2010         2     small       4    No        North       large\n",
      "95   152500  1970         2     small       1   Yes         West       small\n",
      "97   126800  2000         2     small       1   Yes         East       small\n",
      "110  111600  1710         2     small       1    No        North       small\n",
      "111  114900  1740         2     small       2    No        North       small\n",
      "112  123600  1940         2     small       2   Yes         East       small\n",
      "119  109700  1920         2     small       4    No        North       large\n",
      "120  110400  1930         2     large       3    No        North       large\n",
      "122  144800  2060         2     small       1   Yes         East       small\n",
      "125  113500  2070         2     small       2    No        North       small\n"
     ]
    },
    {
     "name": "stderr",
     "output_type": "stream",
     "text": [
      "C:\\Users\\LENOVO\\AppData\\Local\\Temp\\ipykernel_7672\\2291364862.py:3: SettingWithCopyWarning: \n",
      "A value is trying to be set on a copy of a slice from a DataFrame.\n",
      "Try using .loc[row_indexer,col_indexer] = value instead\n",
      "\n",
      "See the caveats in the documentation: https://pandas.pydata.org/pandas-docs/stable/user_guide/indexing.html#returning-a-view-versus-a-copy\n",
      "  rafael['newvariable'] = np.where(rafael['Offers'] > 2, 'large', 'small')\n"
     ]
    }
   ],
   "source": [
    "import numpy as np \n",
    "\n",
    "rafael['newvariable'] = np.where(rafael['Offers'] > 2, 'large', 'small')\n",
    "\n",
    "print(rafael)"
   ]
  },
  {
   "cell_type": "code",
   "execution_count": 15,
   "id": "4cf83b15-fdd0-4345-94f5-ac3fe73224fa",
   "metadata": {},
   "outputs": [
    {
     "name": "stdout",
     "output_type": "stream",
     "text": [
      "      Price  SqFt  Bedrooms Bathrooms  Offers Brick Neighborhood  newvariable\n",
      "0    114300  1790         2     small       2    No         East    63.854749\n",
      "11   123000  1870         2     small       2   Yes         East    65.775401\n",
      "18   111400  1700         2     small       1   Yes         East    65.529412\n",
      "28    69100  1600         2     small       3    No        North    43.187500\n",
      "31   112300  1930         2     small       2   Yes        North    58.186528\n",
      "34   117800  2000         2     small       3    No        North    58.900000\n",
      "36   117500  1880         2     small       2    No        North    62.500000\n",
      "40   106600  1560         2     small       1    No         East    68.333333\n",
      "42   105600  1990         2     small       3    No         East    53.065327\n",
      "46   129800  1990         2     large       2    No        North    65.226131\n",
      "48   115900  1980         2     small       2    No         East    58.535354\n",
      "51    91100  1860         2     small       3    No        North    48.978495\n",
      "52   117400  2150         2     large       4    No        North    54.604651\n",
      "55   125700  1720         2     small       2   Yes         East    73.081395\n",
      "61   100900  1610         2     small       2    No        North    62.670807\n",
      "63   120500  1910         2     large       2    No         East    63.089005\n",
      "65   111100  1450         2     small       1   Yes        North    76.620690\n",
      "75   106900  1900         2     small       2    No        North    56.263158\n",
      "82   164800  2050         2     small       1   Yes         West    80.390244\n",
      "84    90500  1520         2     small       3    No        North    59.539474\n",
      "89    97800  2010         2     small       4    No        North    48.656716\n",
      "95   152500  1970         2     small       1   Yes         West    77.411168\n",
      "97   126800  2000         2     small       1   Yes         East    63.400000\n",
      "110  111600  1710         2     small       1    No        North    65.263158\n",
      "111  114900  1740         2     small       2    No        North    66.034483\n",
      "112  123600  1940         2     small       2   Yes         East    63.711340\n",
      "119  109700  1920         2     small       4    No        North    57.135417\n",
      "120  110400  1930         2     large       3    No        North    57.202073\n",
      "122  144800  2060         2     small       1   Yes         East    70.291262\n",
      "125  113500  2070         2     small       2    No        North    54.830918\n"
     ]
    },
    {
     "name": "stderr",
     "output_type": "stream",
     "text": [
      "C:\\Users\\LENOVO\\AppData\\Local\\Temp\\ipykernel_7672\\2962036485.py:1: SettingWithCopyWarning: \n",
      "A value is trying to be set on a copy of a slice from a DataFrame.\n",
      "Try using .loc[row_indexer,col_indexer] = value instead\n",
      "\n",
      "See the caveats in the documentation: https://pandas.pydata.org/pandas-docs/stable/user_guide/indexing.html#returning-a-view-versus-a-copy\n",
      "  rafael['newvariable'] = rafael['Price'] / rafael['SqFt']\n"
     ]
    }
   ],
   "source": [
    "rafael['newvariable'] = rafael['Price'] / rafael['SqFt']\n",
    "\n",
    "print(rafael)"
   ]
  },
  {
   "cell_type": "code",
   "execution_count": 18,
   "id": "9b6aca3d-56b0-4aa7-87ba-de98a78a41c9",
   "metadata": {},
   "outputs": [
    {
     "name": "stdout",
     "output_type": "stream",
     "text": [
      "      Price  SqFt  Bedrooms Bathrooms  Offers Brick Neighborhood\n",
      "0    114300  1790         2     small       2    No         East\n",
      "11   123000  1870         2     small       2   Yes         East\n",
      "18   111400  1700         2     small       1   Yes         East\n",
      "28    69100  1600         2     small       3    No        North\n",
      "31   112300  1930         2     small       2   Yes        North\n",
      "34   117800  2000         2     small       3    No        North\n",
      "36   117500  1880         2     small       2    No        North\n",
      "40   106600  1560         2     small       1    No         East\n",
      "42   105600  1990         2     small       3    No         East\n",
      "46   129800  1990         2     large       2    No        North\n",
      "48   115900  1980         2     small       2    No         East\n",
      "51    91100  1860         2     small       3    No        North\n",
      "52   117400  2150         2     large       4    No        North\n",
      "55   125700  1720         2     small       2   Yes         East\n",
      "61   100900  1610         2     small       2    No        North\n",
      "63   120500  1910         2     large       2    No         East\n",
      "65   111100  1450         2     small       1   Yes        North\n",
      "75   106900  1900         2     small       2    No        North\n",
      "82   164800  2050         2     small       1   Yes         West\n",
      "84    90500  1520         2     small       3    No        North\n",
      "89    97800  2010         2     small       4    No        North\n",
      "95   152500  1970         2     small       1   Yes         West\n",
      "97   126800  2000         2     small       1   Yes         East\n",
      "110  111600  1710         2     small       1    No        North\n",
      "111  114900  1740         2     small       2    No        North\n",
      "112  123600  1940         2     small       2   Yes         East\n",
      "119  109700  1920         2     small       4    No        North\n",
      "120  110400  1930         2     large       3    No        North\n",
      "122  144800  2060         2     small       1   Yes         East\n",
      "125  113500  2070         2     small       2    No        North\n"
     ]
    }
   ],
   "source": [
    "rafael = rafael.drop(columns=['newvariable'])\n",
    "                     \n",
    "print(rafael)"
   ]
  },
  {
   "cell_type": "code",
   "execution_count": 19,
   "id": "f193c65f-85ea-433d-8e39-0a1ca289cde6",
   "metadata": {},
   "outputs": [
    {
     "name": "stdout",
     "output_type": "stream",
     "text": [
      "      Price  SqFt\n",
      "0    114300  1790\n",
      "1    114200  2030\n",
      "2    114800  1740\n",
      "3     94700  1980\n",
      "4    119800  2130\n",
      "..      ...   ...\n",
      "123  119700  1900\n",
      "124  147900  2160\n",
      "125  113500  2070\n",
      "126  149900  2020\n",
      "127  124600  2250\n",
      "\n",
      "[128 rows x 2 columns]\n"
     ]
    }
   ],
   "source": [
    "kolom1dan2 = data_rafael.iloc[:, 0:2]\n",
    "print(kolom1dan2)"
   ]
  },
  {
   "cell_type": "code",
   "execution_count": 20,
   "id": "e85a99d7-5e06-48bc-b0d3-ce40067a683a",
   "metadata": {},
   "outputs": [
    {
     "name": "stdout",
     "output_type": "stream",
     "text": [
      "     Bedrooms  Bathrooms\n",
      "0           2          2\n",
      "1           4          2\n",
      "2           3          2\n",
      "3           3          2\n",
      "4           3          3\n",
      "..        ...        ...\n",
      "123         3          3\n",
      "124         4          3\n",
      "125         2          2\n",
      "126         3          3\n",
      "127         3          3\n",
      "\n",
      "[128 rows x 2 columns]\n"
     ]
    }
   ],
   "source": [
    "kolom3dan4 = data_rafael.iloc[:, 2:4]\n",
    "print(kolom3dan4)"
   ]
  },
  {
   "cell_type": "code",
   "execution_count": 22,
   "id": "2a5c0f5c-d4d1-4928-a81e-5066e918f181",
   "metadata": {},
   "outputs": [
    {
     "name": "stdout",
     "output_type": "stream",
     "text": [
      "      Price  SqFt  Bedrooms  Bathrooms\n",
      "0    114300  1790         2          2\n",
      "1    114200  2030         4          2\n",
      "2    114800  1740         3          2\n",
      "3     94700  1980         3          2\n",
      "4    119800  2130         3          3\n",
      "..      ...   ...       ...        ...\n",
      "123  119700  1900         3          3\n",
      "124  147900  2160         4          3\n",
      "125  113500  2070         2          2\n",
      "126  149900  2020         3          3\n",
      "127  124600  2250         3          3\n",
      "\n",
      "[128 rows x 4 columns]\n"
     ]
    }
   ],
   "source": [
    "kolom1sd4 = pd.concat([kolom1dan2, kolom3dan4], axis=1)\n",
    "print(kolom1sd4)"
   ]
  },
  {
   "cell_type": "code",
   "execution_count": 24,
   "id": "7f0ed938-dd55-4b46-b484-532f5fba26b7",
   "metadata": {},
   "outputs": [
    {
     "name": "stdout",
     "output_type": "stream",
     "text": [
      "    Price  SqFt  Bedrooms  Bathrooms  Offers Brick Neighborhood\n",
      "0  114300  1790         2          2       2    No         East\n",
      "1  114200  2030         4          2       3    No         East\n",
      "2  114800  1740         3          2       1    No         East\n",
      "3   94700  1980         3          2       3    No         East\n",
      "4  119800  2130         3          3       3    No         East\n",
      "5  114600  1780         3          2       2    No        North\n"
     ]
    }
   ],
   "source": [
    "baris1sd3 = data_rafael.iloc[0:3,:]\n",
    "baris4sd6 = data_rafael.iloc[3:6,:]\n",
    "#saya pakai concat karena append sudah dihapus di pandas terbaru\n",
    "baris1sd6 = pd.concat([baris1sd3, baris4sd6])\n",
    "\n",
    "print(baris1sd6)"
   ]
  },
  {
   "cell_type": "code",
   "execution_count": 25,
   "id": "1fb023d8-0e31-4e32-8733-0c1de29133ca",
   "metadata": {},
   "outputs": [
    {
     "name": "stdout",
     "output_type": "stream",
     "text": [
      "      Price  SqFt  Bedrooms  Bathrooms  Offers Brick Neighborhood\n",
      "28    69100  1600         2          2       3    No        North\n",
      "54    81300  1650         3          2       3    No        North\n",
      "104   82300  1910         3          2       4    No         East\n",
      "17    83600  1990         3          3       4    No        North\n",
      "47    90300  2050         3          2       6    No        North\n",
      "..      ...   ...       ...        ...     ...   ...          ...\n",
      "81   184300  2140         4          3       2   Yes         West\n",
      "29   188000  2040         4          3       1   Yes         West\n",
      "85   188300  2250         4          3       2   Yes         West\n",
      "116  199500  2290         5          4       1   Yes         West\n",
      "103  211200  2440         4          3       3   Yes         West\n",
      "\n",
      "[128 rows x 7 columns]\n"
     ]
    }
   ],
   "source": [
    "data_rafael_sort = data_rafael.sort_values(by='Price')\n",
    "print(data_rafael_sort)"
   ]
  },
  {
   "cell_type": "code",
   "execution_count": null,
   "id": "5aabc59d-1b90-4d32-89b1-41b90e825756",
   "metadata": {},
   "outputs": [],
   "source": []
  }
 ],
 "metadata": {
  "kernelspec": {
   "display_name": "Python 3 (ipykernel)",
   "language": "python",
   "name": "python3"
  },
  "language_info": {
   "codemirror_mode": {
    "name": "ipython",
    "version": 3
   },
   "file_extension": ".py",
   "mimetype": "text/x-python",
   "name": "python",
   "nbconvert_exporter": "python",
   "pygments_lexer": "ipython3",
   "version": "3.12.0"
  }
 },
 "nbformat": 4,
 "nbformat_minor": 5
}
