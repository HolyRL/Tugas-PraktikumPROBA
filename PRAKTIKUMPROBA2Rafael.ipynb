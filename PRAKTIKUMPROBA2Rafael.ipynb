{
 "cells": [
  {
   "cell_type": "code",
   "execution_count": 7,
   "id": "62d3c471-ff33-427a-89d1-95ff66eedf01",
   "metadata": {},
   "outputs": [
    {
     "name": "stdout",
     "output_type": "stream",
     "text": [
      "[1, 2, -5, 0.3, 6, -2, 4]\n",
      "['one', 'two', 'three']\n",
      "[True, True, True, False, True]\n"
     ]
    }
   ],
   "source": [
    "a = [1, 2, -5, 0.3, 6, -2, 4]\n",
    "b = [\"one\", \"two\", \"three\"]\n",
    "c = [True, True, True, False, True]\n",
    "print(a)\n",
    "print(b)\n",
    "print(c)"
   ]
  },
  {
   "cell_type": "code",
   "execution_count": 8,
   "id": "f8e76b4a-ee74-472f-93a2-ec033ff05e06",
   "metadata": {},
   "outputs": [
    {
     "name": "stdout",
     "output_type": "stream",
     "text": [
      "[[  3  15]\n",
      " [-27  38]]\n"
     ]
    }
   ],
   "source": [
    "import numpy as np\n",
    "cells = [3, 15,-27,38]\n",
    "r_Rafael = [\"R1\", \"R2\"]\n",
    "c_Rafael = [\"C1\", \"C2\"]\n",
    "Rafael_matrix = np.matrix(cells).reshape(2,2)\n",
    "print(Rafael_matrix)"
   ]
  },
  {
   "cell_type": "code",
   "execution_count": 9,
   "id": "2f78a89c-95cf-4e71-900c-7bfe7df1165b",
   "metadata": {},
   "outputs": [
    {
     "name": "stdout",
     "output_type": "stream",
     "text": [
      "   ID  Color  Passed\n",
      "0   1    red    True\n",
      "1   2  white    True\n",
      "2   3    red    True\n",
      "3   4    NaN   False\n"
     ]
    }
   ],
   "source": [
    "import pandas as pd\n",
    "import numpy as np\n",
    "Rafael1 = [1, 2, 3, 4]\n",
    "Rafael2 = [\"red\", \"white\", \"red\", np.nan]\n",
    "Rafael3 = [True, True, True, False]\n",
    "\n",
    "dataku = pd.DataFrame({\"ID\": Rafael1, \"Color\": Rafael2, \"Passed\": Rafael3})\n",
    "print(dataku)"
   ]
  },
  {
   "cell_type": "code",
   "execution_count": 10,
   "id": "343d7cc1-d15e-4285-a412-18da60622cc6",
   "metadata": {},
   "outputs": [
    {
     "name": "stdout",
     "output_type": "stream",
     "text": [
      "  id   x   y\n",
      "0  a   1  11\n",
      "1  b   2  12\n",
      "2  c   3  13\n",
      "3  d   4  14\n",
      "4  e   5  15\n",
      "5  f   6  16\n",
      "6  g   7  17\n",
      "7  h   8  18\n",
      "8  i   9  19\n",
      "9  j  10  20\n"
     ]
    }
   ],
   "source": [
    "import pandas as pd\n",
    "data_Rafael = pd.DataFrame({\"id\": list(\"abcdefghij\"), \"x\": list(range(1,11)), \"y\": list(range(11, 21))})\n",
    "print(data_Rafael)"
   ]
  },
  {
   "cell_type": "code",
   "execution_count": 11,
   "id": "6f9e1cb6-6749-426f-afcb-fb97da59e513",
   "metadata": {},
   "outputs": [
    {
     "name": "stdout",
     "output_type": "stream",
     "text": [
      "Requirement already satisfied: mysql-connector-python in c:\\users\\lenovo\\appdata\\local\\programs\\python\\python312\\lib\\site-packages (9.2.0)\n",
      "Note: you may need to restart the kernel to use updated packages.\n"
     ]
    },
    {
     "name": "stderr",
     "output_type": "stream",
     "text": [
      "\n",
      "[notice] A new release of pip is available: 23.2.1 -> 25.0.1\n",
      "[notice] To update, run: python.exe -m pip install --upgrade pip\n"
     ]
    }
   ],
   "source": [
    "pip install mysql-connector-python"
   ]
  },
  {
   "cell_type": "code",
   "execution_count": 12,
   "id": "1d71c7b3-1960-43f5-9e53-6cdcb7bc6271",
   "metadata": {},
   "outputs": [
    {
     "name": "stdout",
     "output_type": "stream",
     "text": [
      "\n",
      "Hasil Kueri:\n",
      "('100900;1610;2;2;2;No;North',)\n",
      "('102500;1900;3;3;3;No;North',)\n",
      "('102600;1910;3;2;4;No;North',)\n",
      "('102700;1900;4;2;4;No;North',)\n",
      "('103200;1810;3;2;3;No;East',)\n",
      "('103200;2010;3;2;5;No;North',)\n",
      "('104000;1730;3;3;3;No;East',)\n",
      "('105600;1930;3;3;3;No;East',)\n",
      "('105600;1990;2;2;3;No;East',)\n",
      "('106100;1820;3;2;3;Yes;North',)\n",
      "('106600;1560;2;2;1;No;East',)\n",
      "('106900;1900;2;2;2;No;North',)\n",
      "('107300;1650;3;2;3;No;North',)\n",
      "('107500;1700;3;2;3;Yes;North',)\n",
      "('108200;1740;3;2;2;No;North',)\n",
      "('108500;2130;3;2;4;No;North',)\n",
      "('108700;2110;3;2;3;No;East',)\n",
      "('109700;1920;2;2;4;No;North',)\n",
      "('110400;1930;2;3;3;No;North',)\n",
      "('111100;1450;2;2;1;Yes;North',)\n",
      "('111400;1700;2;2;1;Yes;East',)\n",
      "('111600;1710;2;2;1;No;North',)\n",
      "('112300;1930;2;2;2;Yes;North',)\n",
      "('113500;2070;2;2;2;No;North',)\n",
      "('113800;2000;3;2;4;No;North',)\n",
      "('114200;2030;4;2;3;No;East',)\n",
      "('114300;1790;2;2;2;No;East',)\n",
      "('114600;1780;3;2;2;No;North',)\n",
      "('114800;1740;3;2;1;No;East',)\n",
      "('114900;1740;2;2;2;No;North',)\n",
      "('115700;2000;3;2;3;Yes;North',)\n",
      "('115900;1980;2;2;2;No;East',)\n",
      "('116200;1790;3;2;3;No;East',)\n",
      "('116500;2150;3;2;2;No;East',)\n",
      "('117000;1990;3;3;3;Yes;East',)\n",
      "('117100;2080;3;3;3;No;North',)\n",
      "('117400;2150;2;3;4;No;North',)\n",
      "('117500;1880;2;2;2;No;North',)\n",
      "('117800;1920;3;2;2;No;North',)\n",
      "('117800;2000;2;2;3;No;North',)\n",
      "('119200;2110;4;2;3;No;East',)\n",
      "('119700;1900;3;3;3;Yes;East',)\n",
      "('119800;2130;3;3;3;No;East',)\n",
      "('120500;1910;2;3;2;No;East',)\n",
      "('121300;2130;3;2;3;No;North',)\n",
      "('123000;1870;2;2;2;Yes;East',)\n",
      "('123100;2260;3;3;5;No;East',)\n",
      "('123600;1940;2;2;2;Yes;East',)\n",
      "('124500;2010;4;3;2;No;East',)\n",
      "('124600;2250;3;3;4;No;North',)\n",
      "('125700;1720;2;2;2;Yes;East',)\n",
      "('125700;2040;3;3;2;No;East',)\n",
      "('126200;2210;3;3;4;No;North',)\n",
      "('126300;2150;3;3;5;Yes;North',)\n",
      "('126800;2000;2;2;1;Yes;East',)\n",
      "('127700;1930;3;3;2;No;North',)\n",
      "('129800;1930;3;2;2;No;West',)\n",
      "('129800;1990;2;3;2;No;North',)\n",
      "('130300;1860;3;2;2;No;West',)\n",
      "('130800;2100;3;2;3;No;North',)\n",
      "('131300;1720;3;2;1;No;West',)\n",
      "('132500;2030;3;2;3;Yes;East',)\n",
      "('133300;2440;3;3;3;No;East',)\n",
      "('133600;1840;4;3;2;No;West',)\n",
      "('134000;1890;3;2;1;Yes;East',)\n",
      "('135000;2250;3;3;3;Yes;East',)\n",
      "('136800;2410;3;3;4;No;East',)\n",
      "('137000;2000;4;2;3;No;West',)\n",
      "('138100;1840;3;3;1;No;West',)\n",
      "('139600;2280;5;3;4;Yes;East',)\n",
      "('140900;2190;3;2;3;Yes;East',)\n",
      "('142600;2110;3;2;2;No;West',)\n",
      "('143100;1920;4;2;2;No;West',)\n",
      "('143400;2190;3;3;4;Yes;East',)\n",
      "('143600;1780;4;2;1;No;West',)\n",
      "('144200;2140;3;3;3;No;West',)\n",
      "('144800;2060;2;2;1;Yes;East',)\n",
      "('145500;2060;3;2;1;No;West',)\n",
      "('145800;1780;4;2;1;No;West',)\n",
      "('146900;2530;4;3;4;No;West',)\n",
      "('147000;2420;4;3;4;No;West',)\n",
      "('147100;2190;3;3;4;Yes;East',)\n",
      "('147700;2410;3;3;2;No;East',)\n",
      "('147900;2160;4;3;3;Yes;East',)\n",
      "('149300;2290;4;3;3;No;North',)\n",
      "('149900;2020;3;3;1;No;West',)\n",
      "('150200;1950;3;2;3;Yes;North',)\n",
      "('150700;2160;4;2;2;No;West',)\n",
      "('151100;2100;3;2;3;Yes;East',)\n",
      "('151600;1830;3;3;3;Yes;West',)\n",
      "('151900;2040;4;3;3;No;East',)\n",
      "('152300;2240;4;3;3;No;West',)\n",
      "('152500;1970;2;2;1;Yes;West',)\n",
      "('154000;1920;3;2;1;Yes;East',)\n",
      "('155400;2090;4;2;1;No;West',)\n",
      "('156400;2210;4;3;2;Yes;East',)\n",
      "('157100;2080;3;3;2;No;East',)\n",
      "('157600;2160;4;2;1;No;West',)\n",
      "('160600;2150;4;3;3;Yes;West',)\n",
      "('161300;2220;4;3;2;No;West',)\n",
      "('164800;2050;2;2;1;Yes;West',)\n",
      "('165600;2080;4;3;3;No;West',)\n",
      "('166500;1940;3;3;2;Yes;West',)\n",
      "('166700;1950;3;3;3;Yes;West',)\n",
      "('167200;1920;3;3;2;Yes;West',)\n",
      "('171000;2080;3;3;2;Yes;West',)\n",
      "('172500;1880;3;3;1;Yes;West',)\n",
      "('176500;2280;4;3;3;Yes;West',)\n",
      "('176800;2590;4;3;4;No;West',)\n",
      "('180900;2200;3;3;1;No;West',)\n",
      "('182000;2250;4;3;3;Yes;West',)\n",
      "('184300;2140;4;3;2;Yes;West',)\n",
      "('188000;2040;4;3;1;Yes;West',)\n",
      "('188300;2250;4;3;2;Yes;West',)\n",
      "('199500;2290;5;4;1;Yes;West',)\n",
      "('211200;2440;4;3;3;Yes;West',)\n",
      "('69100;1600;2;2;3;No;North',)\n",
      "('81300;1650;3;2;3;No;North',)\n",
      "('82300;1910;3;2;4;No;East',)\n",
      "('83600;1990;3;3;4;No;North',)\n",
      "('90300;2050;3;2;6;No;North',)\n",
      "('90500;1520;2;2;3;No;North',)\n",
      "('91100;1860;2;2;3;No;North',)\n",
      "('91700;1690;3;2;3;No;North',)\n",
      "('93600;2140;3;2;4;No;North',)\n",
      "('94700;1980;3;2;3;No;East',)\n",
      "('97800;2010;2;2;4;No;North',)\n",
      "('99300;1700;3;2;2;No;East',)\n"
     ]
    }
   ],
   "source": [
    "import mysql.connector\n",
    "\n",
    "connection = mysql.connector.connect(\n",
    "    host=\"localhost\",\n",
    "    user=\"root\",\n",
    "    password=\"\",\n",
    "    database=\"houseprices\"\n",
    ")\n",
    "\n",
    "cursor = connection.cursor()\n",
    "\n",
    "try:\n",
    "    my_query = \"SELECT * FROM rafael_houseprices;\"\n",
    "    cursor.execute(my_query)\n",
    "\n",
    "    result = cursor.fetchall()\n",
    "\n",
    "    print(\"\\nHasil Kueri:\")\n",
    "    for row in result:\n",
    "        print(row)\n",
    "\n",
    "finally:\n",
    "    cursor.close()\n",
    "    connection.close()\n"
   ]
  },
  {
   "cell_type": "code",
   "execution_count": 13,
   "id": "480f381f-7830-4236-9cab-b227c22c0040",
   "metadata": {
    "scrolled": true
   },
   "outputs": [
    {
     "name": "stdout",
     "output_type": "stream",
     "text": [
      "\n",
      "Hasil Filter:\n",
      "      Price  SqFt Bedrooms Bathrooms Offers Brick Neighborhood\n",
      "0    100900  1610        2         2      2    No        North\n",
      "1    102500  1900        3         3      3    No        North\n",
      "2    102600  1910        3         2      4    No        North\n",
      "3    102700  1900        4         2      4    No        North\n",
      "4    103200  1810        3         2      3    No         East\n",
      "..      ...   ...      ...       ...    ...   ...          ...\n",
      "123   91700  1690        3         2      3    No        North\n",
      "124   93600  2140        3         2      4    No        North\n",
      "125   94700  1980        3         2      3    No         East\n",
      "126   97800  2010        2         2      4    No        North\n",
      "127   99300  1700        3         2      2    No         East\n",
      "\n",
      "[86 rows x 7 columns]\n"
     ]
    }
   ],
   "source": [
    "df = pd.DataFrame(result, columns=[\"raw_data\"])\n",
    "df = df[\"raw_data\"].str.split(\";\", expand=True)\n",
    "df.columns = [\"Price\", \"SqFt\", \"Bedrooms\", \"Bathrooms\", \"Offers\", \"Brick\", \"Neighborhood\"]\n",
    "\n",
    "df_filtered = df[df[\"Brick\"] == \"No\"]\n",
    "\n",
    "print(\"\\nHasil Filter:\")\n",
    "print(df_filtered)\n"
   ]
  },
  {
   "cell_type": "code",
   "execution_count": 26,
   "id": "14ab3392-3ca0-442e-9dad-0d7e4f96219a",
   "metadata": {},
   "outputs": [
    {
     "name": "stdout",
     "output_type": "stream",
     "text": [
      "Jumlah total baris setelah pembersihan: 128\n",
      "\n",
      "Hasil Filter:\n",
      "      Price  SqFt  Bedrooms  Bathrooms  Offers Brick Neighborhood\n",
      "0    100900  1610         2          2       2    No        North\n",
      "1    102500  1900         3          3       3    No        North\n",
      "2    102600  1910         3          2       4    No        North\n",
      "3    102700  1900         4          2       4    No        North\n",
      "4    103200  1810         3          2       3    No         East\n",
      "..      ...   ...       ...        ...     ...   ...          ...\n",
      "123   91700  1690         3          2       3    No        North\n",
      "124   93600  2140         3          2       4    No        North\n",
      "125   94700  1980         3          2       3    No         East\n",
      "126   97800  2010         2          2       4    No        North\n",
      "127   99300  1700         3          2       2    No         East\n",
      "\n",
      "[105 rows x 7 columns]\n"
     ]
    }
   ],
   "source": [
    "import pandas as pd\n",
    "\n",
    "# Pastikan result adalah daftar string yang berisi data\n",
    "# Misalnya result = [\"100900;1610;2;2;2;No;North\", \"102500;1900;3;3;3;No;North\", ...]\n",
    "\n",
    "# Pecah string menjadi kolom berdasarkan \";\"\n",
    "df = pd.DataFrame(result, columns=[\"raw_data\"])\n",
    "df = df[\"raw_data\"].str.split(\";\", expand=True)\n",
    "\n",
    "# Atur nama kolom\n",
    "df.columns = [\"Price\", \"SqFt\", \"Bedrooms\", \"Bathrooms\", \"Offers\", \"Brick\", \"Neighborhood\"]\n",
    "\n",
    "# Ubah tipe data agar tidak salah saat filter\n",
    "df[\"Price\"] = pd.to_numeric(df[\"Price\"], errors=\"coerce\")\n",
    "df[\"SqFt\"] = pd.to_numeric(df[\"SqFt\"], errors=\"coerce\")\n",
    "df[\"Bedrooms\"] = pd.to_numeric(df[\"Bedrooms\"], errors=\"coerce\")\n",
    "df[\"Bathrooms\"] = pd.to_numeric(df[\"Bathrooms\"], errors=\"coerce\")\n",
    "df[\"Offers\"] = pd.to_numeric(df[\"Offers\"], errors=\"coerce\")\n",
    "\n",
    "# Hapus baris yang kosong atau tidak valid\n",
    "df = df.dropna()\n",
    "\n",
    "# Hapus duplikasi (jika ada)\n",
    "df = df.drop_duplicates()\n",
    "\n",
    "# Cek jumlah baris setelah bersih\n",
    "print(\"Jumlah total baris setelah pembersihan:\", len(df))\n",
    "\n",
    "# Filter data\n",
    "df_filtered = df[(df[\"Brick\"] == \"No\") | (df[\"Neighborhood\"] == \"East\")]\n",
    "\n",
    "# Tampilkan hasil\n",
    "print(\"\\nHasil Filter:\")\n",
    "print(df_filtered)"
   ]
  },
  {
   "cell_type": "code",
   "execution_count": 34,
   "id": "f96aa2e8-a631-4d91-8c9f-ce02fa89a5a4",
   "metadata": {},
   "outputs": [
    {
     "name": "stdout",
     "output_type": "stream",
     "text": [
      "\n",
      "Hasil Kueri:\n",
      "('Rara', 'P', 2026, 150, 15, 'Taman Anggrek')\n",
      "('Manda', 'P', 2026, 165, 60, 'Bekasi')\n",
      "('Rukhy', 'P', 2026, 160, 60, 'Bekasi')\n",
      "('Tya', 'P', 2026, 150, 45, 'Taman Anggrek')\n",
      "('Ica', 'P', 2026, 165, 60, 'Bekasi')\n",
      "('Delia', 'P', 2026, 160, 60, 'Jakbar')\n",
      "('Gita', 'P', 2026, 160, 60, 'Tangsel')\n",
      "('Viky', 'L', 2026, 160, 60, 'Bekasi')\n",
      "('Fiki', 'L', 2026, 180, 60, 'Kalteng')\n",
      "('Ibnu', 'L', 2026, 170, 70, 'Tangsel')\n",
      "('Ricky', 'L', 2026, 160, 45, 'Grogol')\n",
      "('Akmal', 'L', 2026, 160, 35, 'Tangerang')\n",
      "('Dhila', 'P', 2026, 155, 60, 'Tangerang')\n",
      "('Noto', 'L', 2026, 170, 45, 'Grogol')\n",
      "('Ricardo', 'L', 2026, 170, 30, 'Jawa')\n",
      "('Alya', 'P', 2026, 170, 60, 'Brunai')\n",
      "('Aldo', 'L', 2026, 170, 70, 'Bekasi')\n",
      "('Vika', 'P', 2026, 160, 15, 'Ambon')\n",
      "('Aldy', 'L', 2026, 160, 25, 'Daan Mogot')\n",
      "('Kresna', 'L', 2026, 165, 70, 'Bekasi')\n"
     ]
    }
   ],
   "source": [
    "import mysql.connector\n",
    "\n",
    "# Koneksi ke database MySQL\n",
    "connection = mysql.connector.connect(\n",
    "    host=\"localhost\",\n",
    "    user=\"root\",\n",
    "    password=\"\",\n",
    "    database=\"ps2[rafael]\"\n",
    ")\n",
    "\n",
    "cursor = connection.cursor()\n",
    "\n",
    "try:\n",
    "    # Query ke tabel yang sesuai\n",
    "    my_query = \"SELECT * FROM praktikum_probalatihan2;\"\n",
    "    cursor.execute(my_query)\n",
    "    \n",
    "    result = cursor.fetchall()\n",
    "\n",
    "    print(\"\\nHasil Kueri:\")\n",
    "    for row in result:\n",
    "        print(row)\n",
    "\n",
    "finally:\n",
    "    # Menutup koneksi\n",
    "    cursor.close()\n",
    "    connection.close()\n"
   ]
  },
  {
   "cell_type": "code",
   "execution_count": 36,
   "id": "69c21369-0cc2-48f6-a454-4f436a8c6348",
   "metadata": {},
   "outputs": [
    {
     "name": "stdout",
     "output_type": "stream",
     "text": [
      "       Nama Gender  Angkatan   Tinggi_Badan  Waktu Perjalanan Wilayah Tinggal\n",
      "7      Viky      L      2026            160                60          Bekasi\n",
      "8      Fiki      L      2026            180                60         Kalteng\n",
      "9      Ibnu      L      2026            170                70         Tangsel\n",
      "10    Ricky      L      2026            160                45          Grogol\n",
      "11    Akmal      L      2026            160                35       Tangerang\n",
      "13     Noto      L      2026            170                45          Grogol\n",
      "14  Ricardo      L      2026            170                30            Jawa\n",
      "16     Aldo      L      2026            170                70          Bekasi\n",
      "18     Aldy      L      2026            160                25      Daan Mogot\n",
      "19   Kresna      L      2026            165                70          Bekasi\n"
     ]
    }
   ],
   "source": [
    "import pandas as pd\n",
    "#Mengonversi hasil kueri ke DataFrame Pandas\n",
    "df = pd.DataFrame(result, columns=[desc[0] for desc in cursor.description])\n",
    "\n",
    "#Filter data berdasarkan kondisi yang kompleks\n",
    "df_filtered = df[(df['Gender'] == 'L')]\n",
    "\n",
    "#Menampilkan hasil filter\n",
    "print(df_filtered)"
   ]
  },
  {
   "cell_type": "code",
   "execution_count": null,
   "id": "0ad630fc-837b-47dd-bcae-e86c4d102358",
   "metadata": {},
   "outputs": [],
   "source": []
  }
 ],
 "metadata": {
  "kernelspec": {
   "display_name": "Python 3 (ipykernel)",
   "language": "python",
   "name": "python3"
  },
  "language_info": {
   "codemirror_mode": {
    "name": "ipython",
    "version": 3
   },
   "file_extension": ".py",
   "mimetype": "text/x-python",
   "name": "python",
   "nbconvert_exporter": "python",
   "pygments_lexer": "ipython3",
   "version": "3.12.0"
  }
 },
 "nbformat": 4,
 "nbformat_minor": 5
}
