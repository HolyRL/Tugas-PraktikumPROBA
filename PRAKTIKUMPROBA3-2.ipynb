{
 "cells": [
  {
   "cell_type": "code",
   "execution_count": 26,
   "id": "a120546f-3258-4fe4-923e-1f10c81ab9fe",
   "metadata": {},
   "outputs": [],
   "source": [
    "import pandas as pd\n",
    "\n",
    "dataset_path = \"C:\\\\Users\\\\LENOVO\\\\Praktikum Prob 2.csv\"\n",
    "df = pd.read_csv(dataset_path, sep=\";\")\n",
    "df.columns = df.columns.str.strip()"
   ]
  },
  {
   "cell_type": "code",
   "execution_count": 27,
   "id": "60dd966b-24ef-4c2d-a51c-42bc2ac69f6c",
   "metadata": {},
   "outputs": [
    {
     "name": "stdout",
     "output_type": "stream",
     "text": [
      "Subset Data:\n",
      "    Tinggi Badan\n",
      "0           170\n",
      "1           165\n",
      "2           160\n",
      "3           150\n",
      "4           165\n"
     ]
    }
   ],
   "source": [
    "df_subset = df[[\"Tinggi Badan\"]]\n",
    "print(\"Subset Data:\\n\", df_subset.head())"
   ]
  },
  {
   "cell_type": "code",
   "execution_count": 28,
   "id": "2db4069f-1688-4b8d-bf87-3df76097e263",
   "metadata": {},
   "outputs": [
    {
     "name": "stdout",
     "output_type": "stream",
     "text": [
      "\n",
      "Setelah Mengubah Nilai Tinggi Badan:\n",
      "    Tinggi Badan Kategori Tinggi\n",
      "0           170          Tinggi\n",
      "1           165          Tinggi\n",
      "2           160          Pendek\n",
      "3           150          Pendek\n",
      "4           165          Tinggi\n"
     ]
    }
   ],
   "source": [
    "df[\"Kategori Tinggi\"] = df[\"Tinggi Badan\"].apply(lambda x: \"Tinggi\" if x > 160 else \"Pendek\")\n",
    "print(\"\\nSetelah Mengubah Nilai Tinggi Badan:\\n\", df[[\"Tinggi Badan\", \"Kategori Tinggi\"]].head())"
   ]
  },
  {
   "cell_type": "code",
   "execution_count": 29,
   "id": "5dfb4319-57ca-4663-a90a-29f72f41a421",
   "metadata": {},
   "outputs": [
    {
     "name": "stdout",
     "output_type": "stream",
     "text": [
      "\n",
      "Setelah Menambah Kolom:\n",
      "     Nama Gender  Angkatan  Tinggi Badan  Waktu Perjalanan Wilayah Tinggal  \\\n",
      "0   Diva      P      2020           170                15   Taman Anggrek   \n",
      "1  Manda      P      2020           165                60          Bekasi   \n",
      "2  Rukhy      P      2020           160                60          Bekasi   \n",
      "3    Tya      P      2020           150                45   Taman Anggrek   \n",
      "4    Ica      P      2020           165                60          Bekasi   \n",
      "\n",
      "  Kategori Tinggi  Jurusan Fakultas  \n",
      "0          Tinggi  Infor20      FTI  \n",
      "1          Tinggi  Infor20      FTI  \n",
      "2          Pendek  Infor20      FTI  \n",
      "3          Pendek  Infor20      FTI  \n",
      "4          Tinggi  Infor20      FTI  \n"
     ]
    }
   ],
   "source": [
    "df[\"Jurusan\"] = \"Infor20\"\n",
    "df[\"Fakultas\"] = \"FTI\"\n",
    "print(\"\\nSetelah Menambah Kolom:\\n\", df.head())"
   ]
  },
  {
   "cell_type": "code",
   "execution_count": 30,
   "id": "5e8672d4-4f12-4b60-abaf-bd7f27c2d85f",
   "metadata": {},
   "outputs": [
    {
     "name": "stdout",
     "output_type": "stream",
     "text": [
      "\n",
      "Setelah Menghapus Kolom Fakultas:\n",
      "     Nama Gender  Angkatan  Tinggi Badan  Waktu Perjalanan Wilayah Tinggal  \\\n",
      "0   Diva      P      2020           170                15   Taman Anggrek   \n",
      "1  Manda      P      2020           165                60          Bekasi   \n",
      "2  Rukhy      P      2020           160                60          Bekasi   \n",
      "3    Tya      P      2020           150                45   Taman Anggrek   \n",
      "4    Ica      P      2020           165                60          Bekasi   \n",
      "\n",
      "  Kategori Tinggi  Jurusan  \n",
      "0          Tinggi  Infor20  \n",
      "1          Tinggi  Infor20  \n",
      "2          Pendek  Infor20  \n",
      "3          Pendek  Infor20  \n",
      "4          Tinggi  Infor20  \n"
     ]
    }
   ],
   "source": [
    "df.drop(columns=[\"Fakultas\"], inplace=True)\n",
    "print(\"\\nSetelah Menghapus Kolom Fakultas:\\n\", df.head())"
   ]
  },
  {
   "cell_type": "code",
   "execution_count": 31,
   "id": "106190bc-ac72-443a-aca2-e3934fe16240",
   "metadata": {},
   "outputs": [
    {
     "name": "stdout",
     "output_type": "stream",
     "text": [
      "\n",
      "Setelah Merge Data Frame:\n",
      "   Nama_Gender Angkatan_Tinggi          Gabungan\n",
      "0      Diva_P        2020_170   Diva_P_2020_170\n",
      "1     Manda_P        2020_165  Manda_P_2020_165\n",
      "2     Rukhy_P        2020_160  Rukhy_P_2020_160\n",
      "3       Tya_P        2020_150    Tya_P_2020_150\n",
      "4       Ica_P        2020_165    Ica_P_2020_165\n"
     ]
    }
   ],
   "source": [
    "df[\"Nama_Gender\"] = df[\"Nama\"] + \"_\" + df[\"Gender\"]\n",
    "df[\"Angkatan_Tinggi\"] = df[\"Angkatan\"].astype(str) + \"_\" + df[\"Tinggi Badan\"].astype(str)\n",
    "df[\"Gabungan\"] = df[\"Nama_Gender\"] + \"_\" + df[\"Angkatan_Tinggi\"]\n",
    "print(\"\\nSetelah Merge Data Frame:\\n\", df[[\"Nama_Gender\", \"Angkatan_Tinggi\", \"Gabungan\"]].head())"
   ]
  },
  {
   "cell_type": "code",
   "execution_count": 32,
   "id": "7433686c-f7a5-4f06-bd23-56e9d0efeb3f",
   "metadata": {},
   "outputs": [
    {
     "name": "stdout",
     "output_type": "stream",
     "text": [
      "\n",
      "Gabungan Baris:\n",
      "      Nama Gender  Angkatan  Tinggi Badan  Waktu Perjalanan Wilayah Tinggal  \\\n",
      "0    Diva      P      2020           170                15   Taman Anggrek   \n",
      "1   Manda      P      2020           165                60          Bekasi   \n",
      "2   Rukhy      P      2020           160                60          Bekasi   \n",
      "3     Tya      P      2020           150                45   Taman Anggrek   \n",
      "4     Ica      P      2020           165                60          Bekasi   \n",
      "24   Joko      L      2020           170                60          Meruya   \n",
      "25   Lina      P      2020           160                45      Cengkareng   \n",
      "26   Rian      L      2020           168                55     Kebon Jeruk   \n",
      "27   Sari      P      2020           158                35          Grogol   \n",
      "28  Wahyu      L      2020           172                70        Palmerah   \n",
      "29   Hani      P      2020           162                50          Tomang   \n",
      "\n",
      "   Kategori Tinggi  Jurusan Nama_Gender Angkatan_Tinggi          Gabungan  \n",
      "0           Tinggi  Infor20      Diva_P        2020_170   Diva_P_2020_170  \n",
      "1           Tinggi  Infor20     Manda_P        2020_165  Manda_P_2020_165  \n",
      "2           Pendek  Infor20     Rukhy_P        2020_160  Rukhy_P_2020_160  \n",
      "3           Pendek  Infor20       Tya_P        2020_150    Tya_P_2020_150  \n",
      "4           Tinggi  Infor20       Ica_P        2020_165    Ica_P_2020_165  \n",
      "24          Tinggi  Infor20      Joko_L        2020_170   Joko_L_2020_170  \n",
      "25          Pendek  Infor20      Lina_P        2020_160   Lina_P_2020_160  \n",
      "26          Tinggi  Infor20      Rian_L        2020_168   Rian_L_2020_168  \n",
      "27          Pendek  Infor20      Sari_P        2020_158   Sari_P_2020_158  \n",
      "28          Tinggi  Infor20     Wahyu_L        2020_172  Wahyu_L_2020_172  \n",
      "29          Tinggi  Infor20      Hani_P        2020_162   Hani_P_2020_162  \n"
     ]
    }
   ],
   "source": [
    "df_baris1 = df.iloc[0:5]\n",
    "df_baris2 = df.iloc[24:30]\n",
    "df_baris_merged = pd.concat([df_baris1, df_baris2])\n",
    "print(\"\\nGabungan Baris:\\n\", df_baris_merged)"
   ]
  },
  {
   "cell_type": "code",
   "execution_count": 34,
   "id": "dfa84b35-4db4-4880-9113-e6314547ffbb",
   "metadata": {},
   "outputs": [
    {
     "name": "stdout",
     "output_type": "stream",
     "text": [
      "\n",
      "Setelah Sorting Data:\n",
      "        Nama Gender  Angkatan  Tinggi Badan  Waktu Perjalanan Wilayah Tinggal  \\\n",
      "0      Diva      P      2020           170                15   Taman Anggrek   \n",
      "17    Riska      P      2020           160                15          Grogol   \n",
      "18     Aldy      L      2020           160                25      Daan Mogot   \n",
      "14  Ricardo      L      2020           170                30            Jawa   \n",
      "23    Citra      P      2020           155                30          Tomang   \n",
      "\n",
      "   Kategori Tinggi  Jurusan Nama_Gender Angkatan_Tinggi            Gabungan  \n",
      "0           Tinggi  Infor20      Diva_P        2020_170     Diva_P_2020_170  \n",
      "17          Pendek  Infor20     Riska_P        2020_160    Riska_P_2020_160  \n",
      "18          Pendek  Infor20      Aldy_L        2020_160     Aldy_L_2020_160  \n",
      "14          Tinggi  Infor20   Ricardo_L        2020_170  Ricardo_L_2020_170  \n",
      "23          Pendek  Infor20     Citra_P        2020_155    Citra_P_2020_155  \n"
     ]
    }
   ],
   "source": [
    "df_sorted = df.sort_values(by=\"Waktu Perjalanan\")\n",
    "print(\"\\nSetelah Sorting Data:\\n\", df_sorted.head())"
   ]
  },
  {
   "cell_type": "code",
   "execution_count": null,
   "id": "b7fcf60d-9823-4f1b-a3ed-c6ffc9a05a54",
   "metadata": {},
   "outputs": [],
   "source": []
  }
 ],
 "metadata": {
  "kernelspec": {
   "display_name": "Python 3 (ipykernel)",
   "language": "python",
   "name": "python3"
  },
  "language_info": {
   "codemirror_mode": {
    "name": "ipython",
    "version": 3
   },
   "file_extension": ".py",
   "mimetype": "text/x-python",
   "name": "python",
   "nbconvert_exporter": "python",
   "pygments_lexer": "ipython3",
   "version": "3.12.0"
  }
 },
 "nbformat": 4,
 "nbformat_minor": 5
}
